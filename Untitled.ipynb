{
 "cells": [
  {
   "cell_type": "raw",
   "id": "1292e44d-6a17-4e4a-857b-7f75ca98bc08",
   "metadata": {},
   "source": [
    "!pip install insightface"
   ]
  },
  {
   "cell_type": "code",
   "execution_count": null,
   "id": "f05ae98f-0572-4e91-93cd-68ddf8734088",
   "metadata": {},
   "outputs": [],
   "source": [
    "import glob, cv2, os\n",
    "import numpy as np\n",
    "from matplotlib import pyplot as plt\n",
    "\n",
    "import insightface\n",
    "from insightface.app import FaceAnalysis\n",
    "from insightface.data import get_image as ins_get_image"
   ]
  },
  {
   "cell_type": "code",
   "execution_count": null,
   "id": "25fd9d0b-544e-4cd6-829b-09f619e35c3c",
   "metadata": {},
   "outputs": [],
   "source": [
    "print('Insightface', insightface.__version__)"
   ]
  },
  {
   "cell_type": "code",
   "execution_count": null,
   "id": "5c7d7c17-dd01-46f4-a3d3-797a77b329c1",
   "metadata": {},
   "outputs": [],
   "source": [
    "app = FaceAnalysis(name='buffalo_l')"
   ]
  },
  {
   "cell_type": "code",
   "execution_count": null,
   "id": "704de00e-19fb-4a65-b093-855f842344a9",
   "metadata": {},
   "outputs": [],
   "source": [
    "app.prepare(ctx_id=0, det_size=(640,640))"
   ]
  },
  {
   "cell_type": "code",
   "execution_count": null,
   "id": "6f752cf4-ab5a-42bf-82f5-038e83dcab1f",
   "metadata": {},
   "outputs": [],
   "source": [
    "swapper = insightface.model_zoo.get_model('training_weights.onnx',\n",
    "                                         download=False,\n",
    "                                         download_zip=False)"
   ]
  },
  {
   "cell_type": "code",
   "execution_count": null,
   "id": "4114bb02-1583-4ec8-8548-291b5d1233e6",
   "metadata": {},
   "outputs": [],
   "source": [
    "sample = cv2.imread(\"Xxxxxx\")\n",
    "sample_face = app.get(sample)\n",
    "res = sample.copy()\n",
    "plt.imshow(sample[:,:,::-1])\n",
    "plt.show()"
   ]
  },
  {
   "cell_type": "code",
   "execution_count": null,
   "id": "fceff7f0-5e5e-4028-b316-ee5519564459",
   "metadata": {},
   "outputs": [],
   "source": [
    "len(sample_face)"
   ]
  },
  {
   "cell_type": "code",
   "execution_count": null,
   "id": "8e0a43d1-e6ce-41e8-bc10-8f676bbd9b1f",
   "metadata": {},
   "outputs": [],
   "source": [
    "bbox = sample_face[0]['bbox']\n",
    "bbox = [int(b) for b in bbox]\n",
    "plt.imshow(sample[bbox[1]:bbox[3], bbox[0]:bbox[2], ::-1])"
   ]
  },
  {
   "cell_type": "code",
   "execution_count": null,
   "id": "e6bc2e0b-c50d-4563-89d9-14d39e314149",
   "metadata": {
    "scrolled": true
   },
   "outputs": [],
   "source": [
    "## For multiple Faces\n",
    "# fig, axs = plt.subplots(1,len(sample_face), figsize=(12,5))\n",
    "\n",
    "# for i, face in enumerate(sample_face):\n",
    "#     bbox = face['bbox']\n",
    "#     bbox = [int(b) for b in bbox]\n",
    "#     print(bbox)\n",
    "#     axs[i].imshow(sample[bbox[1]:bbox[3], bbox[0]:bbox[2], ::-1])\n",
    "#     axs[i].axis('off')"
   ]
  },
  {
   "cell_type": "code",
   "execution_count": null,
   "id": "091cc0f4-b4a7-48e0-aa64-65a12175c2f3",
   "metadata": {},
   "outputs": [],
   "source": [
    "faces = app.get(sample)\n",
    "res = cv2.imread(\"xxxxx\")\n",
    "\n",
    "for face in faces:\n",
    "    res = swapper.get(res, face, sample_face[0], paste_back=True)\n",
    "\n",
    "fig, ax = plt.subplots()\n",
    "ax.imshow(res[:,:,::-1])\n",
    "ax.axis('off')\n",
    "plt.show()"
   ]
  },
  {
   "cell_type": "code",
   "execution_count": null,
   "id": "e2ee2711-424f-42b1-afda-60c8505eecda",
   "metadata": {},
   "outputs": [],
   "source": [
    "plt.imshow(res[:,:,::-1])\n",
    "plt.show()"
   ]
  },
  {
   "cell_type": "code",
   "execution_count": null,
   "id": "e6c5977d-170e-4996-87cb-ad47f3ce816e",
   "metadata": {},
   "outputs": [],
   "source": [
    "cv2.imwrite('final_image.png',res)"
   ]
  },
  {
   "cell_type": "code",
   "execution_count": null,
   "id": "dc47801a-c769-4297-99bf-329593234548",
   "metadata": {},
   "outputs": [],
   "source": []
  }
 ],
 "metadata": {
  "kernelspec": {
   "display_name": "Python 3 (ipykernel)",
   "language": "python",
   "name": "python3"
  },
  "language_info": {
   "codemirror_mode": {
    "name": "ipython",
    "version": 3
   },
   "file_extension": ".py",
   "mimetype": "text/x-python",
   "name": "python",
   "nbconvert_exporter": "python",
   "pygments_lexer": "ipython3",
   "version": "3.12.6"
  }
 },
 "nbformat": 4,
 "nbformat_minor": 5
}
